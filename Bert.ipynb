{
 "cells": [
  {
   "cell_type": "code",
   "execution_count": null,
   "id": "f1a0a891-9cc1-4083-84c6-6fb47643a7db",
   "metadata": {},
   "outputs": [],
   "source": [
    "!pip install datasets \n",
    "import pandas as pd\n",
    "from sklearn.model_selection import train_test_split\n",
    "from transformers import TFAutoModelForTokenClassification, TrainingArguments, Trainer, AutoTokenizer\n",
    "from datasets import Dataset\n",
    "import tensorflow as tf\n",
    "\n",
    "gmb = pd.read_csv(\"/content/gmb.csv\", sep=\",\", encoding='unicode_escape').head(100_000).dropna()\n",
    "\n",
    "\n",
    "X = gmb.Word.astype(str).tolist()\n",
    "y_ner = gmb.Tag.tolist()\n",
    "\n",
    "\n",
    "X_train, X_test, y_train, y_test = train_test_split(X, y_ner, test_size=0.2, random_state=404)\n",
    "\n",
    "\n",
    "train_dataset = Dataset.from_dict({\"text\": X_train, \"labels\": y_train})\n",
    "test_dataset = Dataset.from_dict({\"text\": X_test, \"labels\": y_test})\n",
    "\n",
    "tokenizer = AutoTokenizer.from_pretrained(\"dslim/distilbert-NER\")\n",
    "model = TFAutoModelForTokenClassification.from_pretrained(\"dslim/distilbert-NER\", num_labels=len(set(y_ner)))\n",
    "\n",
    "\n",
    "training_args = TrainingArguments(\n",
    "    output_dir='./results',          \n",
    "    evaluation_strategy=\"epoch\",    \n",
    "    save_strategy=\"epoch\",           \n",
    "    learning_rate=2e-5,              \n",
    "    per_device_train_batch_size=16,  \n",
    "    per_device_eval_batch_size=16,   \n",
    "    num_train_epochs=3,              \n",
    "    weight_decay=0.01,               \n",
    "    logging_dir='./logs',           \n",
    "    logging_steps=200,               \n",
    "    load_best_model_at_end=True,     \n",
    ")\n",
    "\n",
    "\n",
    "\n",
    "trainer = Trainer(\n",
    "    model=model,                         \n",
    "    args=training_args,                  \n",
    "    train_dataset=train_dataset,        \n",
    "    eval_dataset=test_dataset,          \n",
    "    compute_metrics=compute_metrics      \n",
    ")\n",
    "\n",
    "\n",
    "trainer.train()"
   ]
  }
 ],
 "metadata": {
  "kernelspec": {
   "display_name": "Python 3 (ipykernel)",
   "language": "python",
   "name": "python3"
  },
  "language_info": {
   "codemirror_mode": {
    "name": "ipython",
    "version": 3
   },
   "file_extension": ".py",
   "mimetype": "text/x-python",
   "name": "python",
   "nbconvert_exporter": "python",
   "pygments_lexer": "ipython3",
   "version": "3.11.6"
  }
 },
 "nbformat": 4,
 "nbformat_minor": 5
}
